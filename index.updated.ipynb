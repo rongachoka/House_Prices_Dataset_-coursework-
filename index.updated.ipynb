{
 "cells": [
  {
   "cell_type": "markdown",
   "source": [
    "#  House Prices Dataset\n",
    "---\n",
    "**Name:** Ronald Wanjohi Gachoka <br>\n",
    "**Student Number:** S2274825 <br>\n",
    "**Course:** Software Development for Data Science <br>\n",
    "**Assignment:** Coursework 1 <br>\n",
    "**Program:** MSc Financial Technology \n",
    "\n",
    "## 1. Overview\n",
    "\n",
    "This main objective of this coursework is to perform exploratory data analysis techniques on the 2 datasets that are related to residential properties.\n",
    "\n",
    "The goal of this project will be:\n",
    "> - To understand the factors that influence property price\n",
    "> - Determine which year had the highest property \n",
    "     - Which month was the best to sell a property \n",
    "> - What type of properties were the best to own based on their sale price and neighborhood\n",
    "\n",
    "**Methodology**\n",
    "To achieve these goals, the coursework will involve the following steps:\n",
    "> - Data understanding\n",
    "> - Data pre-processing (cleaning)\n",
    "> - Univariate and bivariate analysis to understand relationships and trends\n",
    "> - Visualizations\n",
    "> - Conclusion\n",
    "\n",
    "\n",
    "## 2. Data Understanding\n",
    "\n",
    "The 2 datasets presented to us are from the sale of properties in a small town in USA between 2006 and 2010.\n",
    "\n",
    "The first dataset describes individual minute elements of the residential properties from:\n",
    "- lot coverage, number of bedrooms, type of foundation, zoning class amongst many more\n",
    "\n",
    "The 2nd dataset is much smaller but describes:\n",
    "- the parcel number, type of property and the price it was sold at.\n",
    "\n",
    "**Important notes** (from data dictionary)\n",
    "- To deal with some of the clear outliers, we are recommended to remove any properties with more than 4,000 square feet.\n",
    "\n",
    "**Load libraries**"
   ],
   "metadata": {
    "collapsed": false
   },
   "id": "f2a2308d6a9a4063"
  },
  {
   "cell_type": "code",
   "execution_count": 1,
   "id": "initial_id",
   "metadata": {
    "collapsed": true,
    "ExecuteTime": {
     "end_time": "2023-11-15T18:13:48.157193Z",
     "start_time": "2023-11-15T18:13:48.009464Z"
    }
   },
   "outputs": [],
   "source": [
    "# Data analysis\n",
    "import pandas as pd\n",
    "import numpy as np\n",
    "\n",
    "# Statistics\n",
    "import scipy.stats as stats\n",
    "\n",
    "# Visualization\n",
    "import matplotlib.pyplot as plt\n",
    "import seaborn as sns\n",
    "%matplotlib inline\n",
    "\n",
    "# Encoding\n",
    "from sklearn.preprocessing import OneHotEncoder, LabelEncoder\n",
    "\n",
    "# Styling\n",
    "sns.set_style(\"whitegrid\")"
   ]
  },
  {
   "cell_type": "code",
   "execution_count": 2,
   "outputs": [
    {
     "data": {
      "text/plain": "   Order        PID  MS_SubClass MS_Zoning  Lot_Frontage  Lot_Area Street  \\\n0      1  526301100           20        RL         141.0     31770   Pave   \n1      2  526350040           20        RH          80.0     11622   Pave   \n2      3  526351010           20        RL          81.0     14267   Pave   \n3      4  526353030           20        RL          93.0     11160   Pave   \n4      5  527105010           60        RL          74.0     13830   Pave   \n\n  Alley Lot_Shape Land_Contour  ... Screen_Porch Pool_Area Pool_QC  Fence  \\\n0   NaN       IR1          Lvl  ...            0         0     NaN    NaN   \n1   NaN       Reg          Lvl  ...          120         0     NaN  MnPrv   \n2   NaN       IR1          Lvl  ...            0         0     NaN    NaN   \n3   NaN       Reg          Lvl  ...            0         0     NaN    NaN   \n4   NaN       IR1          Lvl  ...            0         0     NaN  MnPrv   \n\n  Misc_Feature Misc_Val Mo_Sold Yr_Sold  Sale_Type  Sale_Condition  \n0          NaN        0       5    2010        WD           Normal  \n1          NaN        0       6    2010        WD           Normal  \n2         Gar2    12500       6    2010        WD           Normal  \n3          NaN        0       4    2010        WD           Normal  \n4          NaN        0       3    2010        WD           Normal  \n\n[5 rows x 81 columns]",
      "text/html": "<div>\n<style scoped>\n    .dataframe tbody tr th:only-of-type {\n        vertical-align: middle;\n    }\n\n    .dataframe tbody tr th {\n        vertical-align: top;\n    }\n\n    .dataframe thead th {\n        text-align: right;\n    }\n</style>\n<table border=\"1\" class=\"dataframe\">\n  <thead>\n    <tr style=\"text-align: right;\">\n      <th></th>\n      <th>Order</th>\n      <th>PID</th>\n      <th>MS_SubClass</th>\n      <th>MS_Zoning</th>\n      <th>Lot_Frontage</th>\n      <th>Lot_Area</th>\n      <th>Street</th>\n      <th>Alley</th>\n      <th>Lot_Shape</th>\n      <th>Land_Contour</th>\n      <th>...</th>\n      <th>Screen_Porch</th>\n      <th>Pool_Area</th>\n      <th>Pool_QC</th>\n      <th>Fence</th>\n      <th>Misc_Feature</th>\n      <th>Misc_Val</th>\n      <th>Mo_Sold</th>\n      <th>Yr_Sold</th>\n      <th>Sale_Type</th>\n      <th>Sale_Condition</th>\n    </tr>\n  </thead>\n  <tbody>\n    <tr>\n      <th>0</th>\n      <td>1</td>\n      <td>526301100</td>\n      <td>20</td>\n      <td>RL</td>\n      <td>141.0</td>\n      <td>31770</td>\n      <td>Pave</td>\n      <td>NaN</td>\n      <td>IR1</td>\n      <td>Lvl</td>\n      <td>...</td>\n      <td>0</td>\n      <td>0</td>\n      <td>NaN</td>\n      <td>NaN</td>\n      <td>NaN</td>\n      <td>0</td>\n      <td>5</td>\n      <td>2010</td>\n      <td>WD</td>\n      <td>Normal</td>\n    </tr>\n    <tr>\n      <th>1</th>\n      <td>2</td>\n      <td>526350040</td>\n      <td>20</td>\n      <td>RH</td>\n      <td>80.0</td>\n      <td>11622</td>\n      <td>Pave</td>\n      <td>NaN</td>\n      <td>Reg</td>\n      <td>Lvl</td>\n      <td>...</td>\n      <td>120</td>\n      <td>0</td>\n      <td>NaN</td>\n      <td>MnPrv</td>\n      <td>NaN</td>\n      <td>0</td>\n      <td>6</td>\n      <td>2010</td>\n      <td>WD</td>\n      <td>Normal</td>\n    </tr>\n    <tr>\n      <th>2</th>\n      <td>3</td>\n      <td>526351010</td>\n      <td>20</td>\n      <td>RL</td>\n      <td>81.0</td>\n      <td>14267</td>\n      <td>Pave</td>\n      <td>NaN</td>\n      <td>IR1</td>\n      <td>Lvl</td>\n      <td>...</td>\n      <td>0</td>\n      <td>0</td>\n      <td>NaN</td>\n      <td>NaN</td>\n      <td>Gar2</td>\n      <td>12500</td>\n      <td>6</td>\n      <td>2010</td>\n      <td>WD</td>\n      <td>Normal</td>\n    </tr>\n    <tr>\n      <th>3</th>\n      <td>4</td>\n      <td>526353030</td>\n      <td>20</td>\n      <td>RL</td>\n      <td>93.0</td>\n      <td>11160</td>\n      <td>Pave</td>\n      <td>NaN</td>\n      <td>Reg</td>\n      <td>Lvl</td>\n      <td>...</td>\n      <td>0</td>\n      <td>0</td>\n      <td>NaN</td>\n      <td>NaN</td>\n      <td>NaN</td>\n      <td>0</td>\n      <td>4</td>\n      <td>2010</td>\n      <td>WD</td>\n      <td>Normal</td>\n    </tr>\n    <tr>\n      <th>4</th>\n      <td>5</td>\n      <td>527105010</td>\n      <td>60</td>\n      <td>RL</td>\n      <td>74.0</td>\n      <td>13830</td>\n      <td>Pave</td>\n      <td>NaN</td>\n      <td>IR1</td>\n      <td>Lvl</td>\n      <td>...</td>\n      <td>0</td>\n      <td>0</td>\n      <td>NaN</td>\n      <td>MnPrv</td>\n      <td>NaN</td>\n      <td>0</td>\n      <td>3</td>\n      <td>2010</td>\n      <td>WD</td>\n      <td>Normal</td>\n    </tr>\n  </tbody>\n</table>\n<p>5 rows × 81 columns</p>\n</div>"
     },
     "execution_count": 2,
     "metadata": {},
     "output_type": "execute_result"
    }
   ],
   "source": [
    "# Importing data\n",
    "housing_df = pd.read_csv(\"data/Housing_1.txt\", sep=\"\\t\")\n",
    "sales_df = pd.read_csv(\"data/Housing_2.txt\", sep=\"\\t\")\n",
    "\n",
    "# Replacing the space in columns names with \"_\"\n",
    "housing_df.columns = housing_df.columns.str.replace(\" \",\"_\")\n",
    "sales_df.columns = sales_df.columns.str.replace(\" \",\"_\")\n",
    "\n",
    "# quick overview\n",
    "housing_df.head()"
   ],
   "metadata": {
    "collapsed": false,
    "ExecuteTime": {
     "end_time": "2023-11-15T18:13:58.374807Z",
     "start_time": "2023-11-15T18:13:58.193648Z"
    }
   },
   "id": "fe583c01bcba6e26"
  },
  {
   "cell_type": "code",
   "execution_count": 3,
   "outputs": [
    {
     "data": {
      "text/plain": "   Order        PID  MS_SubClass  SalePrice\n0      1  526301100           20     215000\n1      2  526350040           20     105000\n2      3  526351010           20     172000\n3      4  526353030           20     244000\n4      5  527105010           60     189900",
      "text/html": "<div>\n<style scoped>\n    .dataframe tbody tr th:only-of-type {\n        vertical-align: middle;\n    }\n\n    .dataframe tbody tr th {\n        vertical-align: top;\n    }\n\n    .dataframe thead th {\n        text-align: right;\n    }\n</style>\n<table border=\"1\" class=\"dataframe\">\n  <thead>\n    <tr style=\"text-align: right;\">\n      <th></th>\n      <th>Order</th>\n      <th>PID</th>\n      <th>MS_SubClass</th>\n      <th>SalePrice</th>\n    </tr>\n  </thead>\n  <tbody>\n    <tr>\n      <th>0</th>\n      <td>1</td>\n      <td>526301100</td>\n      <td>20</td>\n      <td>215000</td>\n    </tr>\n    <tr>\n      <th>1</th>\n      <td>2</td>\n      <td>526350040</td>\n      <td>20</td>\n      <td>105000</td>\n    </tr>\n    <tr>\n      <th>2</th>\n      <td>3</td>\n      <td>526351010</td>\n      <td>20</td>\n      <td>172000</td>\n    </tr>\n    <tr>\n      <th>3</th>\n      <td>4</td>\n      <td>526353030</td>\n      <td>20</td>\n      <td>244000</td>\n    </tr>\n    <tr>\n      <th>4</th>\n      <td>5</td>\n      <td>527105010</td>\n      <td>60</td>\n      <td>189900</td>\n    </tr>\n  </tbody>\n</table>\n</div>"
     },
     "execution_count": 3,
     "metadata": {},
     "output_type": "execute_result"
    }
   ],
   "source": [
    "sales_df.head()"
   ],
   "metadata": {
    "collapsed": false,
    "ExecuteTime": {
     "end_time": "2023-11-15T18:15:38.729816Z",
     "start_time": "2023-11-15T18:15:38.666420Z"
    }
   },
   "id": "99a65f6624c3bc3c"
  },
  {
   "cell_type": "markdown",
   "source": [
    "Using `.head()` is useful as it helps quickly preview the data we have and check for any errors or unexpected values.\n",
    "\n",
    "In the above case with housing_df we can see that there's a mixture of numerical and categorical data as well as some rows with a value of `0` which could be either missing values or a valid value.\n",
    "\n",
    "In the case of sales_df, we can see that there's only numerical data and nothing out of the ordinary."
   ],
   "metadata": {
    "collapsed": false
   },
   "id": "118a02fb6e3abc44"
  },
  {
   "cell_type": "code",
   "execution_count": 4,
   "outputs": [
    {
     "name": "stdout",
     "output_type": "stream",
     "text": [
      "<class 'pandas.core.frame.DataFrame'>\n",
      "RangeIndex: 2933 entries, 0 to 2932\n",
      "Data columns (total 81 columns):\n",
      " #   Column           Non-Null Count  Dtype  \n",
      "---  ------           --------------  -----  \n",
      " 0   Order            2933 non-null   int64  \n",
      " 1   PID              2933 non-null   int64  \n",
      " 2   MS_SubClass      2933 non-null   int64  \n",
      " 3   MS_Zoning        2933 non-null   object \n",
      " 4   Lot_Frontage     2443 non-null   float64\n",
      " 5   Lot_Area         2933 non-null   int64  \n",
      " 6   Street           2933 non-null   object \n",
      " 7   Alley            198 non-null    object \n",
      " 8   Lot_Shape        2933 non-null   object \n",
      " 9   Land_Contour     2933 non-null   object \n",
      " 10  Utilities        2933 non-null   object \n",
      " 11  Lot_Config       2933 non-null   object \n",
      " 12  Land_Slope       2933 non-null   object \n",
      " 13  Neighborhood     2933 non-null   object \n",
      " 14  Condition_1      2933 non-null   object \n",
      " 15  Condition_2      2933 non-null   object \n",
      " 16  Bldg_Type        2933 non-null   object \n",
      " 17  House_Style      2933 non-null   object \n",
      " 18  Overall_Qual     2933 non-null   int64  \n",
      " 19  Overall_Cond     2933 non-null   int64  \n",
      " 20  Year_Built       2933 non-null   int64  \n",
      " 21  Year_Remod/Add   2933 non-null   int64  \n",
      " 22  Roof_Style       2933 non-null   object \n",
      " 23  Roof_Matl        2933 non-null   object \n",
      " 24  Exterior_1st     2933 non-null   object \n",
      " 25  Exterior_2nd     2933 non-null   object \n",
      " 26  Mas_Vnr_Type     1158 non-null   object \n",
      " 27  Mas_Vnr_Area     2910 non-null   float64\n",
      " 28  Exter_Qual       2933 non-null   object \n",
      " 29  Exter_Cond       2933 non-null   object \n",
      " 30  Foundation       2933 non-null   object \n",
      " 31  Bsmt_Qual        2853 non-null   object \n",
      " 32  Bsmt_Cond        2853 non-null   object \n",
      " 33  Bsmt_Exposure    2850 non-null   object \n",
      " 34  BsmtFin_Type_1   2853 non-null   object \n",
      " 35  BsmtFin_SF_1     2932 non-null   float64\n",
      " 36  BsmtFin_Type_2   2852 non-null   object \n",
      " 37  BsmtFin_SF_2     2932 non-null   float64\n",
      " 38  Bsmt_Unf_SF      2932 non-null   float64\n",
      " 39  Total_Bsmt_SF    2932 non-null   float64\n",
      " 40  Heating          2933 non-null   object \n",
      " 41  Heating_QC       2933 non-null   object \n",
      " 42  Central_Air      2933 non-null   object \n",
      " 43  Electrical       2932 non-null   object \n",
      " 44  1st_Flr_SF       2933 non-null   int64  \n",
      " 45  2nd_Flr_SF       2933 non-null   int64  \n",
      " 46  Low_Qual_Fin_SF  2933 non-null   int64  \n",
      " 47  Gr_Liv_Area      2933 non-null   int64  \n",
      " 48  Bsmt_Full_Bath   2931 non-null   float64\n",
      " 49  Bsmt_Half_Bath   2931 non-null   float64\n",
      " 50  Full_Bath        2933 non-null   int64  \n",
      " 51  Half_Bath        2933 non-null   int64  \n",
      " 52  Bedroom_AbvGr    2933 non-null   int64  \n",
      " 53  Kitchen_AbvGr    2933 non-null   int64  \n",
      " 54  Kitchen_Qual     2933 non-null   object \n",
      " 55  TotRms_AbvGrd    2933 non-null   int64  \n",
      " 56  Functional       2933 non-null   object \n",
      " 57  Fireplaces       2933 non-null   int64  \n",
      " 58  Fireplace_Qu     1510 non-null   object \n",
      " 59  Garage_Type      2776 non-null   object \n",
      " 60  Garage_Yr_Blt    2774 non-null   float64\n",
      " 61  Garage_Finish    2774 non-null   object \n",
      " 62  Garage_Cars      2932 non-null   float64\n",
      " 63  Garage_Area      2932 non-null   float64\n",
      " 64  Garage_Qual      2774 non-null   object \n",
      " 65  Garage_Cond      2774 non-null   object \n",
      " 66  Paved_Drive      2933 non-null   object \n",
      " 67  Wood_Deck_SF     2933 non-null   int64  \n",
      " 68  Open_Porch_SF    2933 non-null   int64  \n",
      " 69  Enclosed_Porch   2933 non-null   int64  \n",
      " 70  3Ssn_Porch       2933 non-null   int64  \n",
      " 71  Screen_Porch     2933 non-null   int64  \n",
      " 72  Pool_Area        2933 non-null   int64  \n",
      " 73  Pool_QC          13 non-null     object \n",
      " 74  Fence            573 non-null    object \n",
      " 75  Misc_Feature     106 non-null    object \n",
      " 76  Misc_Val         2933 non-null   int64  \n",
      " 77  Mo_Sold          2933 non-null   int64  \n",
      " 78  Yr_Sold          2933 non-null   int64  \n",
      " 79  Sale_Type        2933 non-null   object \n",
      " 80  Sale_Condition   2933 non-null   object \n",
      "dtypes: float64(11), int64(27), object(43)\n",
      "memory usage: 1.8+ MB\n"
     ]
    }
   ],
   "source": [
    "# Describe the data\n",
    "housing_df.info()"
   ],
   "metadata": {
    "collapsed": false,
    "ExecuteTime": {
     "end_time": "2023-11-15T18:40:41.626477Z",
     "start_time": "2023-11-15T18:40:41.465753Z"
    }
   },
   "id": "803f241f9bc1375"
  },
  {
   "cell_type": "code",
   "execution_count": 5,
   "outputs": [
    {
     "name": "stdout",
     "output_type": "stream",
     "text": [
      "<class 'pandas.core.frame.DataFrame'>\n",
      "RangeIndex: 2933 entries, 0 to 2932\n",
      "Data columns (total 4 columns):\n",
      " #   Column       Non-Null Count  Dtype\n",
      "---  ------       --------------  -----\n",
      " 0   Order        2933 non-null   int64\n",
      " 1   PID          2933 non-null   int64\n",
      " 2   MS_SubClass  2933 non-null   int64\n",
      " 3   SalePrice    2933 non-null   int64\n",
      "dtypes: int64(4)\n",
      "memory usage: 91.8 KB\n"
     ]
    }
   ],
   "source": [
    "# Describe the data\n",
    "sales_df.info()"
   ],
   "metadata": {
    "collapsed": false,
    "ExecuteTime": {
     "end_time": "2023-11-15T18:40:45.941968Z",
     "start_time": "2023-11-15T18:40:45.892377Z"
    }
   },
   "id": "2018b2f642aa7e45"
  },
  {
   "cell_type": "markdown",
   "source": [
    "From the above lines of code, we see that:\n",
    "- several columns have multiple missing values in the housing_df dataset\n",
    "- some columns have the wrong data type\n",
    "- there are no missing values in the sales_df dataset"
   ],
   "metadata": {
    "collapsed": false
   },
   "id": "9a7638f255cca033"
  },
  {
   "cell_type": "code",
   "execution_count": 6,
   "outputs": [
    {
     "name": "stdout",
     "output_type": "stream",
     "text": [
      "Shape of the housing dataset:\n"
     ]
    },
    {
     "data": {
      "text/plain": "(2933, 81)"
     },
     "execution_count": 6,
     "metadata": {},
     "output_type": "execute_result"
    }
   ],
   "source": [
    "# Shape of the data\n",
    "print(\"Shape of the housing dataset:\")\n",
    "housing_df.shape"
   ],
   "metadata": {
    "collapsed": false,
    "ExecuteTime": {
     "end_time": "2023-11-15T18:41:32.852868Z",
     "start_time": "2023-11-15T18:41:32.835908Z"
    }
   },
   "id": "2195927a2778eced"
  },
  {
   "cell_type": "code",
   "execution_count": 7,
   "outputs": [
    {
     "name": "stdout",
     "output_type": "stream",
     "text": [
      "Shape of the sales_df dataset:\n"
     ]
    },
    {
     "data": {
      "text/plain": "(2933, 4)"
     },
     "execution_count": 7,
     "metadata": {},
     "output_type": "execute_result"
    }
   ],
   "source": [
    "print(\"Shape of the sales_df dataset:\")\n",
    "sales_df.shape"
   ],
   "metadata": {
    "collapsed": false,
    "ExecuteTime": {
     "end_time": "2023-11-15T18:41:37.724606Z",
     "start_time": "2023-11-15T18:41:37.672969Z"
    }
   },
   "id": "6a0fa45b56ef48a4"
  },
  {
   "cell_type": "markdown",
   "source": [
    "From the above lines of code, we see that: \n",
    "- housing_df has 2933 rows and 81 columns\n",
    "- sales_df has 2933 rows and 4 columns"
   ],
   "metadata": {
    "collapsed": false
   },
   "id": "86225dc29fe66c7c"
  },
  {
   "cell_type": "code",
   "execution_count": 8,
   "outputs": [
    {
     "data": {
      "text/plain": "             Order           PID  MS_SubClass  Lot_Frontage       Lot_Area  \\\ncount  2933.000000  2.933000e+03  2933.000000   2443.000000    2933.000000   \nmean   1464.151381  7.142811e+08    57.349131     69.237822   10147.789976   \nstd     846.579702  1.887213e+08    42.632965     23.354888    7876.008408   \nmin       1.000000  5.263011e+08    20.000000     21.000000    1300.000000   \n25%     731.000000  5.284770e+08    20.000000     58.000000    7441.000000   \n50%    1464.000000  5.354532e+08    50.000000     68.000000    9439.000000   \n75%    2197.000000  9.071811e+08    70.000000     80.000000   11553.000000   \nmax    2930.000000  1.007100e+09   190.000000    313.000000  215245.000000   \n\n       Overall_Qual  Overall_Cond   Year_Built  Year_Remod/Add  Mas_Vnr_Area  \\\ncount   2933.000000   2933.000000  2933.000000     2933.000000   2910.000000   \nmean       6.094102      5.562564  1971.344016     1984.241050    102.082818   \nstd        1.410595      1.111114    30.232331       20.864849    179.172166   \nmin        1.000000      1.000000  1872.000000     1950.000000      0.000000   \n25%        5.000000      5.000000  1954.000000     1965.000000      0.000000   \n50%        6.000000      5.000000  1973.000000     1993.000000      0.000000   \n75%        7.000000      6.000000  2001.000000     2004.000000    164.000000   \nmax       10.000000      9.000000  2010.000000     2010.000000   1600.000000   \n\n       ...  Garage_Area  Wood_Deck_SF  Open_Porch_SF  Enclosed_Porch  \\\ncount  ...  2932.000000   2933.000000    2933.000000     2933.000000   \nmean   ...   472.749659     93.655984      47.501534       22.988067   \nstd    ...   214.957946    126.332461      67.457316       64.110459   \nmin    ...     0.000000      0.000000       0.000000        0.000000   \n25%    ...   320.000000      0.000000       0.000000        0.000000   \n50%    ...   480.000000      0.000000      27.000000        0.000000   \n75%    ...   576.000000    168.000000      70.000000        0.000000   \nmax    ...  1488.000000   1424.000000     742.000000     1012.000000   \n\n        3Ssn_Porch  Screen_Porch    Pool_Area      Misc_Val      Mo_Sold  \\\ncount  2933.000000   2933.000000  2933.000000   2933.000000  2933.000000   \nmean      2.589840     16.088987     2.241050     50.583362     6.270031   \nstd      25.128602     56.171408    35.579037    566.056789     3.570864   \nmin       0.000000      0.000000     0.000000      0.000000     1.000000   \n25%       0.000000      0.000000     0.000000      0.000000     4.000000   \n50%       0.000000      0.000000     0.000000      0.000000     6.000000   \n75%       0.000000      0.000000     0.000000      0.000000     8.000000   \nmax     508.000000    576.000000   800.000000  17000.000000   120.000000   \n\n           Yr_Sold  \ncount  2933.000000  \nmean   2007.792704  \nstd       1.317834  \nmin    2006.000000  \n25%    2007.000000  \n50%    2008.000000  \n75%    2009.000000  \nmax    2010.000000  \n\n[8 rows x 38 columns]",
      "text/html": "<div>\n<style scoped>\n    .dataframe tbody tr th:only-of-type {\n        vertical-align: middle;\n    }\n\n    .dataframe tbody tr th {\n        vertical-align: top;\n    }\n\n    .dataframe thead th {\n        text-align: right;\n    }\n</style>\n<table border=\"1\" class=\"dataframe\">\n  <thead>\n    <tr style=\"text-align: right;\">\n      <th></th>\n      <th>Order</th>\n      <th>PID</th>\n      <th>MS_SubClass</th>\n      <th>Lot_Frontage</th>\n      <th>Lot_Area</th>\n      <th>Overall_Qual</th>\n      <th>Overall_Cond</th>\n      <th>Year_Built</th>\n      <th>Year_Remod/Add</th>\n      <th>Mas_Vnr_Area</th>\n      <th>...</th>\n      <th>Garage_Area</th>\n      <th>Wood_Deck_SF</th>\n      <th>Open_Porch_SF</th>\n      <th>Enclosed_Porch</th>\n      <th>3Ssn_Porch</th>\n      <th>Screen_Porch</th>\n      <th>Pool_Area</th>\n      <th>Misc_Val</th>\n      <th>Mo_Sold</th>\n      <th>Yr_Sold</th>\n    </tr>\n  </thead>\n  <tbody>\n    <tr>\n      <th>count</th>\n      <td>2933.000000</td>\n      <td>2.933000e+03</td>\n      <td>2933.000000</td>\n      <td>2443.000000</td>\n      <td>2933.000000</td>\n      <td>2933.000000</td>\n      <td>2933.000000</td>\n      <td>2933.000000</td>\n      <td>2933.000000</td>\n      <td>2910.000000</td>\n      <td>...</td>\n      <td>2932.000000</td>\n      <td>2933.000000</td>\n      <td>2933.000000</td>\n      <td>2933.000000</td>\n      <td>2933.000000</td>\n      <td>2933.000000</td>\n      <td>2933.000000</td>\n      <td>2933.000000</td>\n      <td>2933.000000</td>\n      <td>2933.000000</td>\n    </tr>\n    <tr>\n      <th>mean</th>\n      <td>1464.151381</td>\n      <td>7.142811e+08</td>\n      <td>57.349131</td>\n      <td>69.237822</td>\n      <td>10147.789976</td>\n      <td>6.094102</td>\n      <td>5.562564</td>\n      <td>1971.344016</td>\n      <td>1984.241050</td>\n      <td>102.082818</td>\n      <td>...</td>\n      <td>472.749659</td>\n      <td>93.655984</td>\n      <td>47.501534</td>\n      <td>22.988067</td>\n      <td>2.589840</td>\n      <td>16.088987</td>\n      <td>2.241050</td>\n      <td>50.583362</td>\n      <td>6.270031</td>\n      <td>2007.792704</td>\n    </tr>\n    <tr>\n      <th>std</th>\n      <td>846.579702</td>\n      <td>1.887213e+08</td>\n      <td>42.632965</td>\n      <td>23.354888</td>\n      <td>7876.008408</td>\n      <td>1.410595</td>\n      <td>1.111114</td>\n      <td>30.232331</td>\n      <td>20.864849</td>\n      <td>179.172166</td>\n      <td>...</td>\n      <td>214.957946</td>\n      <td>126.332461</td>\n      <td>67.457316</td>\n      <td>64.110459</td>\n      <td>25.128602</td>\n      <td>56.171408</td>\n      <td>35.579037</td>\n      <td>566.056789</td>\n      <td>3.570864</td>\n      <td>1.317834</td>\n    </tr>\n    <tr>\n      <th>min</th>\n      <td>1.000000</td>\n      <td>5.263011e+08</td>\n      <td>20.000000</td>\n      <td>21.000000</td>\n      <td>1300.000000</td>\n      <td>1.000000</td>\n      <td>1.000000</td>\n      <td>1872.000000</td>\n      <td>1950.000000</td>\n      <td>0.000000</td>\n      <td>...</td>\n      <td>0.000000</td>\n      <td>0.000000</td>\n      <td>0.000000</td>\n      <td>0.000000</td>\n      <td>0.000000</td>\n      <td>0.000000</td>\n      <td>0.000000</td>\n      <td>0.000000</td>\n      <td>1.000000</td>\n      <td>2006.000000</td>\n    </tr>\n    <tr>\n      <th>25%</th>\n      <td>731.000000</td>\n      <td>5.284770e+08</td>\n      <td>20.000000</td>\n      <td>58.000000</td>\n      <td>7441.000000</td>\n      <td>5.000000</td>\n      <td>5.000000</td>\n      <td>1954.000000</td>\n      <td>1965.000000</td>\n      <td>0.000000</td>\n      <td>...</td>\n      <td>320.000000</td>\n      <td>0.000000</td>\n      <td>0.000000</td>\n      <td>0.000000</td>\n      <td>0.000000</td>\n      <td>0.000000</td>\n      <td>0.000000</td>\n      <td>0.000000</td>\n      <td>4.000000</td>\n      <td>2007.000000</td>\n    </tr>\n    <tr>\n      <th>50%</th>\n      <td>1464.000000</td>\n      <td>5.354532e+08</td>\n      <td>50.000000</td>\n      <td>68.000000</td>\n      <td>9439.000000</td>\n      <td>6.000000</td>\n      <td>5.000000</td>\n      <td>1973.000000</td>\n      <td>1993.000000</td>\n      <td>0.000000</td>\n      <td>...</td>\n      <td>480.000000</td>\n      <td>0.000000</td>\n      <td>27.000000</td>\n      <td>0.000000</td>\n      <td>0.000000</td>\n      <td>0.000000</td>\n      <td>0.000000</td>\n      <td>0.000000</td>\n      <td>6.000000</td>\n      <td>2008.000000</td>\n    </tr>\n    <tr>\n      <th>75%</th>\n      <td>2197.000000</td>\n      <td>9.071811e+08</td>\n      <td>70.000000</td>\n      <td>80.000000</td>\n      <td>11553.000000</td>\n      <td>7.000000</td>\n      <td>6.000000</td>\n      <td>2001.000000</td>\n      <td>2004.000000</td>\n      <td>164.000000</td>\n      <td>...</td>\n      <td>576.000000</td>\n      <td>168.000000</td>\n      <td>70.000000</td>\n      <td>0.000000</td>\n      <td>0.000000</td>\n      <td>0.000000</td>\n      <td>0.000000</td>\n      <td>0.000000</td>\n      <td>8.000000</td>\n      <td>2009.000000</td>\n    </tr>\n    <tr>\n      <th>max</th>\n      <td>2930.000000</td>\n      <td>1.007100e+09</td>\n      <td>190.000000</td>\n      <td>313.000000</td>\n      <td>215245.000000</td>\n      <td>10.000000</td>\n      <td>9.000000</td>\n      <td>2010.000000</td>\n      <td>2010.000000</td>\n      <td>1600.000000</td>\n      <td>...</td>\n      <td>1488.000000</td>\n      <td>1424.000000</td>\n      <td>742.000000</td>\n      <td>1012.000000</td>\n      <td>508.000000</td>\n      <td>576.000000</td>\n      <td>800.000000</td>\n      <td>17000.000000</td>\n      <td>120.000000</td>\n      <td>2010.000000</td>\n    </tr>\n  </tbody>\n</table>\n<p>8 rows × 38 columns</p>\n</div>"
     },
     "execution_count": 8,
     "metadata": {},
     "output_type": "execute_result"
    }
   ],
   "source": [
    "# Summary statistics (numerical columns)\n",
    "housing_df.describe()"
   ],
   "metadata": {
    "collapsed": false,
    "ExecuteTime": {
     "end_time": "2023-11-15T18:41:58.710603Z",
     "start_time": "2023-11-15T18:41:58.371870Z"
    }
   },
   "id": "4c2e4b1e849f4fe5"
  },
  {
   "cell_type": "code",
   "execution_count": 10,
   "outputs": [
    {
     "data": {
      "text/plain": "       MS_Zoning Street Alley Lot_Shape Land_Contour Utilities Lot_Config  \\\ncount       2933   2933   198      2933         2933      2933       2933   \nunique         7      2     2         4            4         3          5   \ntop           RL   Pave  Grvl       Reg          Lvl    AllPub     Inside   \nfreq        2276   2921   120      1861         2636      2930       2143   \n\n       Land_Slope Neighborhood Condition_1  ... Garage_Type Garage_Finish  \\\ncount        2933         2933        2933  ...        2776          2774   \nunique          3           28           9  ...           6             3   \ntop           Gtl        NAmes        Norm  ...      Attchd           Unf   \nfreq         2792          446        2524  ...        1734          1233   \n\n       Garage_Qual Garage_Cond Paved_Drive Pool_QC  Fence Misc_Feature  \\\ncount         2774        2774        2933      13    573          106   \nunique           5           5           3       4      4            5   \ntop             TA          TA           Y      Ex  MnPrv         Shed   \nfreq          2618        2668        2655       4    330           95   \n\n       Sale_Type Sale_Condition  \ncount       2933           2933  \nunique        10              6  \ntop          WD          Normal  \nfreq        2539           2416  \n\n[4 rows x 43 columns]",
      "text/html": "<div>\n<style scoped>\n    .dataframe tbody tr th:only-of-type {\n        vertical-align: middle;\n    }\n\n    .dataframe tbody tr th {\n        vertical-align: top;\n    }\n\n    .dataframe thead th {\n        text-align: right;\n    }\n</style>\n<table border=\"1\" class=\"dataframe\">\n  <thead>\n    <tr style=\"text-align: right;\">\n      <th></th>\n      <th>MS_Zoning</th>\n      <th>Street</th>\n      <th>Alley</th>\n      <th>Lot_Shape</th>\n      <th>Land_Contour</th>\n      <th>Utilities</th>\n      <th>Lot_Config</th>\n      <th>Land_Slope</th>\n      <th>Neighborhood</th>\n      <th>Condition_1</th>\n      <th>...</th>\n      <th>Garage_Type</th>\n      <th>Garage_Finish</th>\n      <th>Garage_Qual</th>\n      <th>Garage_Cond</th>\n      <th>Paved_Drive</th>\n      <th>Pool_QC</th>\n      <th>Fence</th>\n      <th>Misc_Feature</th>\n      <th>Sale_Type</th>\n      <th>Sale_Condition</th>\n    </tr>\n  </thead>\n  <tbody>\n    <tr>\n      <th>count</th>\n      <td>2933</td>\n      <td>2933</td>\n      <td>198</td>\n      <td>2933</td>\n      <td>2933</td>\n      <td>2933</td>\n      <td>2933</td>\n      <td>2933</td>\n      <td>2933</td>\n      <td>2933</td>\n      <td>...</td>\n      <td>2776</td>\n      <td>2774</td>\n      <td>2774</td>\n      <td>2774</td>\n      <td>2933</td>\n      <td>13</td>\n      <td>573</td>\n      <td>106</td>\n      <td>2933</td>\n      <td>2933</td>\n    </tr>\n    <tr>\n      <th>unique</th>\n      <td>7</td>\n      <td>2</td>\n      <td>2</td>\n      <td>4</td>\n      <td>4</td>\n      <td>3</td>\n      <td>5</td>\n      <td>3</td>\n      <td>28</td>\n      <td>9</td>\n      <td>...</td>\n      <td>6</td>\n      <td>3</td>\n      <td>5</td>\n      <td>5</td>\n      <td>3</td>\n      <td>4</td>\n      <td>4</td>\n      <td>5</td>\n      <td>10</td>\n      <td>6</td>\n    </tr>\n    <tr>\n      <th>top</th>\n      <td>RL</td>\n      <td>Pave</td>\n      <td>Grvl</td>\n      <td>Reg</td>\n      <td>Lvl</td>\n      <td>AllPub</td>\n      <td>Inside</td>\n      <td>Gtl</td>\n      <td>NAmes</td>\n      <td>Norm</td>\n      <td>...</td>\n      <td>Attchd</td>\n      <td>Unf</td>\n      <td>TA</td>\n      <td>TA</td>\n      <td>Y</td>\n      <td>Ex</td>\n      <td>MnPrv</td>\n      <td>Shed</td>\n      <td>WD</td>\n      <td>Normal</td>\n    </tr>\n    <tr>\n      <th>freq</th>\n      <td>2276</td>\n      <td>2921</td>\n      <td>120</td>\n      <td>1861</td>\n      <td>2636</td>\n      <td>2930</td>\n      <td>2143</td>\n      <td>2792</td>\n      <td>446</td>\n      <td>2524</td>\n      <td>...</td>\n      <td>1734</td>\n      <td>1233</td>\n      <td>2618</td>\n      <td>2668</td>\n      <td>2655</td>\n      <td>4</td>\n      <td>330</td>\n      <td>95</td>\n      <td>2539</td>\n      <td>2416</td>\n    </tr>\n  </tbody>\n</table>\n<p>4 rows × 43 columns</p>\n</div>"
     },
     "execution_count": 10,
     "metadata": {},
     "output_type": "execute_result"
    }
   ],
   "source": [
    "# Summary statistics (categorical columns)\n",
    "housing_df.describe(include=\"object\")"
   ],
   "metadata": {
    "collapsed": false,
    "ExecuteTime": {
     "end_time": "2023-11-15T18:42:44.306057Z",
     "start_time": "2023-11-15T18:42:44.222396Z"
    }
   },
   "id": "7c403490f3ca2ca3"
  },
  {
   "cell_type": "markdown",
   "source": [
    "From the above summary statistics we can derive lots of useful information from this dataset (both numerical and categorical columns) such as:\n",
    "- The maximum Order number is 2930 while we have 2933 rows, check for duplicates\n",
    "- Lot area has a maximum value of 215,245 while the average is 10,000. Check for outliers \n",
    "- The oldest house in the dataset was built in 1872, it would be interesting to see how much this was sold for\n",
    "- The largest property has 8 bedrooms, identify which property this is and possibly its sale price compared to rest\n",
    "- \n",
    "- Within the categorical columns, we can see the number of unique values each column had as well as how many times the most frequent value appeared\n",
    "    - This will be useful in identifying the most popular values within the dataset\n",
    "    - We can also see the number of missing values within each column"
   ],
   "metadata": {
    "collapsed": false
   },
   "id": "d48379dbe56ebc82"
  },
  {
   "cell_type": "code",
   "execution_count": 11,
   "outputs": [
    {
     "data": {
      "text/plain": "             Order           PID  MS_SubClass      SalePrice\ncount  2933.000000  2.933000e+03  2933.000000    2933.000000\nmean   1464.151381  7.142811e+08    57.349131  180759.629731\nstd     846.579702  1.887213e+08    42.632965   79858.300395\nmin       1.000000  5.263011e+08    20.000000   12789.000000\n25%     731.000000  5.284770e+08    20.000000  129500.000000\n50%    1464.000000  5.354532e+08    50.000000  160000.000000\n75%    2197.000000  9.071811e+08    70.000000  213500.000000\nmax    2930.000000  1.007100e+09   190.000000  755000.000000",
      "text/html": "<div>\n<style scoped>\n    .dataframe tbody tr th:only-of-type {\n        vertical-align: middle;\n    }\n\n    .dataframe tbody tr th {\n        vertical-align: top;\n    }\n\n    .dataframe thead th {\n        text-align: right;\n    }\n</style>\n<table border=\"1\" class=\"dataframe\">\n  <thead>\n    <tr style=\"text-align: right;\">\n      <th></th>\n      <th>Order</th>\n      <th>PID</th>\n      <th>MS_SubClass</th>\n      <th>SalePrice</th>\n    </tr>\n  </thead>\n  <tbody>\n    <tr>\n      <th>count</th>\n      <td>2933.000000</td>\n      <td>2.933000e+03</td>\n      <td>2933.000000</td>\n      <td>2933.000000</td>\n    </tr>\n    <tr>\n      <th>mean</th>\n      <td>1464.151381</td>\n      <td>7.142811e+08</td>\n      <td>57.349131</td>\n      <td>180759.629731</td>\n    </tr>\n    <tr>\n      <th>std</th>\n      <td>846.579702</td>\n      <td>1.887213e+08</td>\n      <td>42.632965</td>\n      <td>79858.300395</td>\n    </tr>\n    <tr>\n      <th>min</th>\n      <td>1.000000</td>\n      <td>5.263011e+08</td>\n      <td>20.000000</td>\n      <td>12789.000000</td>\n    </tr>\n    <tr>\n      <th>25%</th>\n      <td>731.000000</td>\n      <td>5.284770e+08</td>\n      <td>20.000000</td>\n      <td>129500.000000</td>\n    </tr>\n    <tr>\n      <th>50%</th>\n      <td>1464.000000</td>\n      <td>5.354532e+08</td>\n      <td>50.000000</td>\n      <td>160000.000000</td>\n    </tr>\n    <tr>\n      <th>75%</th>\n      <td>2197.000000</td>\n      <td>9.071811e+08</td>\n      <td>70.000000</td>\n      <td>213500.000000</td>\n    </tr>\n    <tr>\n      <th>max</th>\n      <td>2930.000000</td>\n      <td>1.007100e+09</td>\n      <td>190.000000</td>\n      <td>755000.000000</td>\n    </tr>\n  </tbody>\n</table>\n</div>"
     },
     "execution_count": 11,
     "metadata": {},
     "output_type": "execute_result"
    }
   ],
   "source": [
    "# Summary statistics\n",
    "sales_df.describe()"
   ],
   "metadata": {
    "collapsed": false,
    "ExecuteTime": {
     "end_time": "2023-11-15T18:44:12.420745Z",
     "start_time": "2023-11-15T18:44:12.358889Z"
    }
   },
   "id": "c35c1bb92c7f9d0f"
  },
  {
   "cell_type": "markdown",
   "source": [
    "Similar to the Housing_df, we can draw similar insights for Order, PID and MS_Subclass but we will confirm if all the output in both dataframes are identical later on.\n",
    "Based of the sales_df summary statistics we can see that:\n",
    "- There is also a discrepancy between the Order numbers and maximum value\n",
    "- The average sale price is 180,000 while the max is 755,000 -> This could be an outlier, do more research"
   ],
   "metadata": {
    "collapsed": false
   },
   "id": "5148810cd951cfe0"
  },
  {
   "cell_type": "markdown",
   "source": [
    "### Data Dictionary\n",
    "\n",
    "The data dictionary is a useful tool to help us understand the data and the meaning of each column. This will help us understand the data better and help us identify any potential issues with the data."
   ],
   "metadata": {
    "collapsed": false
   },
   "id": "b83feca72b6963df"
  },
  {
   "cell_type": "code",
   "execution_count": 12,
   "outputs": [
    {
     "name": "stdout",
     "output_type": "stream",
     "text": [
      "MS_Zoning\n",
      "Street\n",
      "Alley\n",
      "Lot_Shape\n",
      "Land_Contour\n",
      "Utilities\n",
      "Lot_Config\n",
      "Land_Slope\n",
      "Neighborhood\n",
      "Condition_1\n",
      "Condition_2\n",
      "Bldg_Type\n",
      "House_Style\n",
      "Roof_Style\n",
      "Roof_Matl\n",
      "Exterior_1st\n",
      "Exterior_2nd\n",
      "Mas_Vnr_Type\n",
      "Exter_Qual\n",
      "Exter_Cond\n",
      "Foundation\n",
      "Bsmt_Qual\n",
      "Bsmt_Cond\n",
      "Bsmt_Exposure\n",
      "BsmtFin_Type_1\n",
      "BsmtFin_Type_2\n",
      "Heating\n",
      "Heating_QC\n",
      "Central_Air\n",
      "Electrical\n",
      "Kitchen_Qual\n",
      "Functional\n",
      "Fireplace_Qu\n",
      "Garage_Type\n",
      "Garage_Finish\n",
      "Garage_Qual\n",
      "Garage_Cond\n",
      "Paved_Drive\n",
      "Pool_QC\n",
      "Fence\n",
      "Misc_Feature\n",
      "Sale_Type\n",
      "Sale_Condition\n"
     ]
    }
   ],
   "source": [
    "# Identifying all object columns in the housing_df\n",
    "for name, label in housing_df.items():\n",
    "    if pd.api.types.is_object_dtype(label):\n",
    "        print(name)"
   ],
   "metadata": {
    "collapsed": false,
    "ExecuteTime": {
     "end_time": "2023-11-15T18:45:43.657094Z",
     "start_time": "2023-11-15T18:45:43.619824Z"
    }
   },
   "id": "3d61fba5e2bab8c8"
  },
  {
   "cell_type": "markdown",
   "source": [
    "From the above code, we can see that there are no object type columns in the dataset. From our analysis we'll need to change the following column to object type:\n",
    "- MS_SubClass"
   ],
   "metadata": {
    "collapsed": false
   },
   "id": "c1d2883771163170"
  },
  {
   "cell_type": "code",
   "execution_count": 13,
   "outputs": [
    {
     "name": "stdout",
     "output_type": "stream",
     "text": [
      "Order\n",
      "PID\n",
      "MS_SubClass\n",
      "Lot_Frontage\n",
      "Lot_Area\n",
      "Overall_Qual\n",
      "Overall_Cond\n",
      "Year_Built\n",
      "Year_Remod/Add\n",
      "Mas_Vnr_Area\n",
      "BsmtFin_SF_1\n",
      "BsmtFin_SF_2\n",
      "Bsmt_Unf_SF\n",
      "Total_Bsmt_SF\n",
      "1st_Flr_SF\n",
      "2nd_Flr_SF\n",
      "Low_Qual_Fin_SF\n",
      "Gr_Liv_Area\n",
      "Bsmt_Full_Bath\n",
      "Bsmt_Half_Bath\n",
      "Full_Bath\n",
      "Half_Bath\n",
      "Bedroom_AbvGr\n",
      "Kitchen_AbvGr\n",
      "TotRms_AbvGrd\n",
      "Fireplaces\n",
      "Garage_Yr_Blt\n",
      "Garage_Cars\n",
      "Garage_Area\n",
      "Wood_Deck_SF\n",
      "Open_Porch_SF\n",
      "Enclosed_Porch\n",
      "3Ssn_Porch\n",
      "Screen_Porch\n",
      "Pool_Area\n",
      "Misc_Val\n",
      "Mo_Sold\n",
      "Yr_Sold\n"
     ]
    }
   ],
   "source": [
    "# identifying all numeric columns in the housing_df\n",
    "for name, label in housing_df.items():\n",
    "    if pd.api.types.is_numeric_dtype(label):\n",
    "        print(name)"
   ],
   "metadata": {
    "collapsed": false,
    "ExecuteTime": {
     "end_time": "2023-11-15T18:45:58.524305Z",
     "start_time": "2023-11-15T18:45:58.432717Z"
    }
   },
   "id": "a8c7c90a1620250d"
  },
  {
   "cell_type": "code",
   "execution_count": 14,
   "outputs": [],
   "source": [
    "# Identifying all object columns in the sales_df\n",
    "for name, label in sales_df.items():\n",
    "    if pd.api.types.is_object_dtype(label):\n",
    "        print(name)"
   ],
   "metadata": {
    "collapsed": false,
    "ExecuteTime": {
     "end_time": "2023-11-15T18:46:09.820036Z",
     "start_time": "2023-11-15T18:46:09.760325Z"
    }
   },
   "id": "9812c057032de6b5"
  },
  {
   "cell_type": "markdown",
   "source": [
    "From the above code, we can see that there are no object(categorical) type columns in the dataset. From our analysis we'll need to change the following column to object type:"
   ],
   "metadata": {
    "collapsed": false
   },
   "id": "504139c70e7239da"
  },
  {
   "cell_type": "code",
   "execution_count": 15,
   "outputs": [
    {
     "name": "stdout",
     "output_type": "stream",
     "text": [
      "Order\n",
      "PID\n",
      "MS_SubClass\n",
      "SalePrice\n"
     ]
    }
   ],
   "source": [
    "# identifying all numeric columns in the sales_df\n",
    "for name, label in sales_df.items():\n",
    "    if pd.api.types.is_numeric_dtype(label):\n",
    "        print(name)"
   ],
   "metadata": {
    "collapsed": false,
    "ExecuteTime": {
     "end_time": "2023-11-15T18:46:13.964574Z",
     "start_time": "2023-11-15T18:46:13.872340Z"
    }
   },
   "id": "9f4cc7fa214a4db"
  },
  {
   "cell_type": "markdown",
   "source": [
    "Based of the code above, we can make the following conclusions about the variables we have in our dataset\n",
    "\n",
    "\n",
    "|  **Variable**  |  **Description**  | **Type** | **Subtype** | \n",
    "|:--------------:|:-----------------:|:--------:|:-----------:|\n",
    "| Order | Observation Number | Numerical |  Discrete   |\n",
    "| PID | Parcel Identification Number | Numerical |   Nominal   |\n",
    "| MS_SubClass | Identifies the type of dwelling involved in the sale | Numerical |   Nominal   |\n",
    "| MS_Zoning | Identifies the general zoning classification of the sale | Categorical |   Nominal   |\n",
    "| Lot_Frontage | Linear feet of street connected to property | Numerical | Continuous  |\n",
    "| Lot_Area | Lot size in square feet | Numerical | Continuous  |\n",
    "| Street | Type of road access to property | Categorical |   Nominal   |\n",
    "\n",
    "\n"
   ],
   "metadata": {
    "collapsed": false
   },
   "id": "42cb4945456ef8e5"
  },
  {
   "cell_type": "markdown",
   "source": [
    "## 3. Data Preparation\n",
    "\n",
    "This stage will include:\n",
    "- Initial Data cleaning (checking for duplicates)\n",
    "- Merging the 2 datasets\n",
    "- Data cleaning\n",
    "    - Checking for missing values, outliers, duplicates\n",
    "- Data transformation\n",
    "    - Adjusting data types\n",
    "    - Creating new columns from existing ones\n",
    "    - Dropping columns that aren't crucial"
   ],
   "metadata": {
    "collapsed": false
   },
   "id": "1267c9bda935027b"
  },
  {
   "cell_type": "markdown",
   "source": [
    "### 3.1 Initial Data Cleaning\n",
    "\n",
    "This stage will check for duplicates in both dataframes and remove them if they exist before merging the 2 datasets."
   ],
   "metadata": {
    "collapsed": false
   },
   "id": "ebcc450c166cfc21"
  },
  {
   "cell_type": "code",
   "execution_count": 18,
   "outputs": [
    {
     "data": {
      "text/plain": "     Order        PID  MS_SubClass MS_Zoning  Lot_Frontage  Lot_Area Street  \\\n145    146  535175070           20        RL          73.0      9300   Pave   \n148    146  535175070           20        RL          73.0      9300   Pave   \n146    147  535175180           20        RL          87.0     10725   Pave   \n149    147  535175180           20        RL          87.0     10725   Pave   \n147    148  535179020           20        RL          80.0     10032   Pave   \n150    148  535179020           20        RL          80.0     10032   Pave   \n\n    Alley Lot_Shape Land_Contour  ... Screen_Porch Pool_Area Pool_QC Fence  \\\n145   NaN       Reg          Lvl  ...          143         0     NaN   NaN   \n148   NaN       Reg          Lvl  ...          143         0     NaN   NaN   \n146   NaN       IR1          Lvl  ...            0         0     NaN   NaN   \n149   NaN       IR1          Lvl  ...            0         0     NaN   NaN   \n147   NaN       Reg          Lvl  ...          160         0     NaN  GdWo   \n150   NaN       Reg          Lvl  ...          160         0     NaN  GdWo   \n\n    Misc_Feature Misc_Val Mo_Sold Yr_Sold  Sale_Type  Sale_Condition  \n145          NaN        0       4    2010        WD           Normal  \n148          NaN        0       4    2010        WD           Normal  \n146          NaN        0       5    2010        WD           Normal  \n149          NaN        0       5    2010        WD           Normal  \n147          NaN        0       6    2010        WD           Normal  \n150          NaN        0       6    2010        WD           Normal  \n\n[6 rows x 81 columns]",
      "text/html": "<div>\n<style scoped>\n    .dataframe tbody tr th:only-of-type {\n        vertical-align: middle;\n    }\n\n    .dataframe tbody tr th {\n        vertical-align: top;\n    }\n\n    .dataframe thead th {\n        text-align: right;\n    }\n</style>\n<table border=\"1\" class=\"dataframe\">\n  <thead>\n    <tr style=\"text-align: right;\">\n      <th></th>\n      <th>Order</th>\n      <th>PID</th>\n      <th>MS_SubClass</th>\n      <th>MS_Zoning</th>\n      <th>Lot_Frontage</th>\n      <th>Lot_Area</th>\n      <th>Street</th>\n      <th>Alley</th>\n      <th>Lot_Shape</th>\n      <th>Land_Contour</th>\n      <th>...</th>\n      <th>Screen_Porch</th>\n      <th>Pool_Area</th>\n      <th>Pool_QC</th>\n      <th>Fence</th>\n      <th>Misc_Feature</th>\n      <th>Misc_Val</th>\n      <th>Mo_Sold</th>\n      <th>Yr_Sold</th>\n      <th>Sale_Type</th>\n      <th>Sale_Condition</th>\n    </tr>\n  </thead>\n  <tbody>\n    <tr>\n      <th>145</th>\n      <td>146</td>\n      <td>535175070</td>\n      <td>20</td>\n      <td>RL</td>\n      <td>73.0</td>\n      <td>9300</td>\n      <td>Pave</td>\n      <td>NaN</td>\n      <td>Reg</td>\n      <td>Lvl</td>\n      <td>...</td>\n      <td>143</td>\n      <td>0</td>\n      <td>NaN</td>\n      <td>NaN</td>\n      <td>NaN</td>\n      <td>0</td>\n      <td>4</td>\n      <td>2010</td>\n      <td>WD</td>\n      <td>Normal</td>\n    </tr>\n    <tr>\n      <th>148</th>\n      <td>146</td>\n      <td>535175070</td>\n      <td>20</td>\n      <td>RL</td>\n      <td>73.0</td>\n      <td>9300</td>\n      <td>Pave</td>\n      <td>NaN</td>\n      <td>Reg</td>\n      <td>Lvl</td>\n      <td>...</td>\n      <td>143</td>\n      <td>0</td>\n      <td>NaN</td>\n      <td>NaN</td>\n      <td>NaN</td>\n      <td>0</td>\n      <td>4</td>\n      <td>2010</td>\n      <td>WD</td>\n      <td>Normal</td>\n    </tr>\n    <tr>\n      <th>146</th>\n      <td>147</td>\n      <td>535175180</td>\n      <td>20</td>\n      <td>RL</td>\n      <td>87.0</td>\n      <td>10725</td>\n      <td>Pave</td>\n      <td>NaN</td>\n      <td>IR1</td>\n      <td>Lvl</td>\n      <td>...</td>\n      <td>0</td>\n      <td>0</td>\n      <td>NaN</td>\n      <td>NaN</td>\n      <td>NaN</td>\n      <td>0</td>\n      <td>5</td>\n      <td>2010</td>\n      <td>WD</td>\n      <td>Normal</td>\n    </tr>\n    <tr>\n      <th>149</th>\n      <td>147</td>\n      <td>535175180</td>\n      <td>20</td>\n      <td>RL</td>\n      <td>87.0</td>\n      <td>10725</td>\n      <td>Pave</td>\n      <td>NaN</td>\n      <td>IR1</td>\n      <td>Lvl</td>\n      <td>...</td>\n      <td>0</td>\n      <td>0</td>\n      <td>NaN</td>\n      <td>NaN</td>\n      <td>NaN</td>\n      <td>0</td>\n      <td>5</td>\n      <td>2010</td>\n      <td>WD</td>\n      <td>Normal</td>\n    </tr>\n    <tr>\n      <th>147</th>\n      <td>148</td>\n      <td>535179020</td>\n      <td>20</td>\n      <td>RL</td>\n      <td>80.0</td>\n      <td>10032</td>\n      <td>Pave</td>\n      <td>NaN</td>\n      <td>Reg</td>\n      <td>Lvl</td>\n      <td>...</td>\n      <td>160</td>\n      <td>0</td>\n      <td>NaN</td>\n      <td>GdWo</td>\n      <td>NaN</td>\n      <td>0</td>\n      <td>6</td>\n      <td>2010</td>\n      <td>WD</td>\n      <td>Normal</td>\n    </tr>\n    <tr>\n      <th>150</th>\n      <td>148</td>\n      <td>535179020</td>\n      <td>20</td>\n      <td>RL</td>\n      <td>80.0</td>\n      <td>10032</td>\n      <td>Pave</td>\n      <td>NaN</td>\n      <td>Reg</td>\n      <td>Lvl</td>\n      <td>...</td>\n      <td>160</td>\n      <td>0</td>\n      <td>NaN</td>\n      <td>GdWo</td>\n      <td>NaN</td>\n      <td>0</td>\n      <td>6</td>\n      <td>2010</td>\n      <td>WD</td>\n      <td>Normal</td>\n    </tr>\n  </tbody>\n</table>\n<p>6 rows × 81 columns</p>\n</div>"
     },
     "execution_count": 18,
     "metadata": {},
     "output_type": "execute_result"
    }
   ],
   "source": [
    "# Housing_df duplicates\n",
    "housing_df[housing_df.duplicated(keep=False)].sort_values(by=\"Order\")"
   ],
   "metadata": {
    "collapsed": false,
    "ExecuteTime": {
     "end_time": "2023-11-15T19:07:05.898845Z",
     "start_time": "2023-11-15T19:07:05.758320Z"
    }
   },
   "id": "b3669916a2c55ba1"
  },
  {
   "cell_type": "markdown",
   "source": [
    "From the above code, we can see that there are 3 duplicates in the housing_df dataset. We will remove these duplicates before merging the 2 datasets."
   ],
   "metadata": {
    "collapsed": false
   },
   "id": "b75f2737b2a0d048"
  },
  {
   "cell_type": "code",
   "execution_count": 19,
   "outputs": [
    {
     "data": {
      "text/plain": "0"
     },
     "execution_count": 19,
     "metadata": {},
     "output_type": "execute_result"
    }
   ],
   "source": [
    "# Dropping duplicates\n",
    "housing_df.drop_duplicates(inplace=True)\n",
    "\n",
    "# Checking if we have any duplicates\n",
    "housing_df.duplicated().sum()"
   ],
   "metadata": {
    "collapsed": false,
    "ExecuteTime": {
     "end_time": "2023-11-15T19:15:41.357285Z",
     "start_time": "2023-11-15T19:15:41.218792Z"
    }
   },
   "id": "aed52e9a1a680d51"
  },
  {
   "cell_type": "code",
   "execution_count": 20,
   "outputs": [
    {
     "data": {
      "text/plain": "     Order        PID  MS_SubClass  SalePrice\n145    146  535175070           20     167500\n148    146  535175070           20     167500\n146    147  535175180           20     108538\n149    147  535175180           20     108538\n147    148  535179020           20     159500\n150    148  535179020           20     159500",
      "text/html": "<div>\n<style scoped>\n    .dataframe tbody tr th:only-of-type {\n        vertical-align: middle;\n    }\n\n    .dataframe tbody tr th {\n        vertical-align: top;\n    }\n\n    .dataframe thead th {\n        text-align: right;\n    }\n</style>\n<table border=\"1\" class=\"dataframe\">\n  <thead>\n    <tr style=\"text-align: right;\">\n      <th></th>\n      <th>Order</th>\n      <th>PID</th>\n      <th>MS_SubClass</th>\n      <th>SalePrice</th>\n    </tr>\n  </thead>\n  <tbody>\n    <tr>\n      <th>145</th>\n      <td>146</td>\n      <td>535175070</td>\n      <td>20</td>\n      <td>167500</td>\n    </tr>\n    <tr>\n      <th>148</th>\n      <td>146</td>\n      <td>535175070</td>\n      <td>20</td>\n      <td>167500</td>\n    </tr>\n    <tr>\n      <th>146</th>\n      <td>147</td>\n      <td>535175180</td>\n      <td>20</td>\n      <td>108538</td>\n    </tr>\n    <tr>\n      <th>149</th>\n      <td>147</td>\n      <td>535175180</td>\n      <td>20</td>\n      <td>108538</td>\n    </tr>\n    <tr>\n      <th>147</th>\n      <td>148</td>\n      <td>535179020</td>\n      <td>20</td>\n      <td>159500</td>\n    </tr>\n    <tr>\n      <th>150</th>\n      <td>148</td>\n      <td>535179020</td>\n      <td>20</td>\n      <td>159500</td>\n    </tr>\n  </tbody>\n</table>\n</div>"
     },
     "execution_count": 20,
     "metadata": {},
     "output_type": "execute_result"
    }
   ],
   "source": [
    "# Sales_df duplicates\n",
    "sales_df[sales_df.duplicated(keep=False)].sort_values(by=\"Order\")"
   ],
   "metadata": {
    "collapsed": false,
    "ExecuteTime": {
     "end_time": "2023-11-15T19:15:48.134873Z",
     "start_time": "2023-11-15T19:15:47.970246Z"
    }
   },
   "id": "9967dcb315048b45"
  },
  {
   "cell_type": "code",
   "execution_count": 21,
   "outputs": [
    {
     "data": {
      "text/plain": "0"
     },
     "execution_count": 21,
     "metadata": {},
     "output_type": "execute_result"
    }
   ],
   "source": [
    "# Dropping duplicates\n",
    "sales_df.drop_duplicates(inplace=True)\n",
    "\n",
    "# Checking if we have any duplicates\n",
    "sales_df.duplicated().sum()"
   ],
   "metadata": {
    "collapsed": false,
    "ExecuteTime": {
     "end_time": "2023-11-15T19:16:18.099396Z",
     "start_time": "2023-11-15T19:16:18.041397Z"
    }
   },
   "id": "3ed1a2bdae5801b4"
  },
  {
   "cell_type": "markdown",
   "source": [
    "Similarly,we can see that there were 3 duplicates in the sales_df dataset. We will remove these duplicates before merging the 2 datasets."
   ],
   "metadata": {
    "collapsed": false
   },
   "id": "fdbf02714e1d309b"
  },
  {
   "cell_type": "markdown",
   "source": [
    "### 3.2 Merging the 2 datasets\n",
    "\n",
    "Before merging the dataframes, we need to ensure that we have matching PID and MS SubClass in both dataframes"
   ],
   "metadata": {
    "collapsed": false
   },
   "id": "a2e5eb3d537fc50"
  },
  {
   "cell_type": "code",
   "execution_count": 22,
   "outputs": [
    {
     "name": "stdout",
     "output_type": "stream",
     "text": [
      "Both PID and MS SubClass are identical in both df\n"
     ]
    }
   ],
   "source": [
    "# Comparing whether the PID values and MS Subclass are identical in both df\n",
    "\n",
    "equal_pid = housing_df[\"PID\"].isin(sales_df[\"PID\"]).all()\n",
    "equal_subclass = housing_df[\"MS_SubClass\"].isin(sales_df[\"MS_SubClass\"]).all()\n",
    "\n",
    "if equal_pid and equal_subclass:\n",
    "    print(\"Both PID and MS SubClass are identical in both df\")\n",
    "else:\n",
    "    print(\"They aren't identical. Perform further analysis\")"
   ],
   "metadata": {
    "collapsed": false,
    "ExecuteTime": {
     "end_time": "2023-11-15T19:22:47.833697Z",
     "start_time": "2023-11-15T19:22:47.814716Z"
    }
   },
   "id": "2ceae41777114f99"
  },
  {
   "cell_type": "code",
   "execution_count": 23,
   "outputs": [
    {
     "data": {
      "text/plain": "   Order        PID  MS_SubClass MS_Zoning  Lot_Frontage  Lot_Area Street  \\\n0      1  526301100           20        RL         141.0     31770   Pave   \n1      2  526350040           20        RH          80.0     11622   Pave   \n2      3  526351010           20        RL          81.0     14267   Pave   \n3      4  526353030           20        RL          93.0     11160   Pave   \n4      5  527105010           60        RL          74.0     13830   Pave   \n\n  Alley Lot_Shape Land_Contour  ... Pool_Area Pool_QC  Fence Misc_Feature  \\\n0   NaN       IR1          Lvl  ...         0     NaN    NaN          NaN   \n1   NaN       Reg          Lvl  ...         0     NaN  MnPrv          NaN   \n2   NaN       IR1          Lvl  ...         0     NaN    NaN         Gar2   \n3   NaN       Reg          Lvl  ...         0     NaN    NaN          NaN   \n4   NaN       IR1          Lvl  ...         0     NaN  MnPrv          NaN   \n\n  Misc_Val Mo_Sold Yr_Sold Sale_Type  Sale_Condition  SalePrice  \n0        0       5    2010       WD           Normal     215000  \n1        0       6    2010       WD           Normal     105000  \n2    12500       6    2010       WD           Normal     172000  \n3        0       4    2010       WD           Normal     244000  \n4        0       3    2010       WD           Normal     189900  \n\n[5 rows x 82 columns]",
      "text/html": "<div>\n<style scoped>\n    .dataframe tbody tr th:only-of-type {\n        vertical-align: middle;\n    }\n\n    .dataframe tbody tr th {\n        vertical-align: top;\n    }\n\n    .dataframe thead th {\n        text-align: right;\n    }\n</style>\n<table border=\"1\" class=\"dataframe\">\n  <thead>\n    <tr style=\"text-align: right;\">\n      <th></th>\n      <th>Order</th>\n      <th>PID</th>\n      <th>MS_SubClass</th>\n      <th>MS_Zoning</th>\n      <th>Lot_Frontage</th>\n      <th>Lot_Area</th>\n      <th>Street</th>\n      <th>Alley</th>\n      <th>Lot_Shape</th>\n      <th>Land_Contour</th>\n      <th>...</th>\n      <th>Pool_Area</th>\n      <th>Pool_QC</th>\n      <th>Fence</th>\n      <th>Misc_Feature</th>\n      <th>Misc_Val</th>\n      <th>Mo_Sold</th>\n      <th>Yr_Sold</th>\n      <th>Sale_Type</th>\n      <th>Sale_Condition</th>\n      <th>SalePrice</th>\n    </tr>\n  </thead>\n  <tbody>\n    <tr>\n      <th>0</th>\n      <td>1</td>\n      <td>526301100</td>\n      <td>20</td>\n      <td>RL</td>\n      <td>141.0</td>\n      <td>31770</td>\n      <td>Pave</td>\n      <td>NaN</td>\n      <td>IR1</td>\n      <td>Lvl</td>\n      <td>...</td>\n      <td>0</td>\n      <td>NaN</td>\n      <td>NaN</td>\n      <td>NaN</td>\n      <td>0</td>\n      <td>5</td>\n      <td>2010</td>\n      <td>WD</td>\n      <td>Normal</td>\n      <td>215000</td>\n    </tr>\n    <tr>\n      <th>1</th>\n      <td>2</td>\n      <td>526350040</td>\n      <td>20</td>\n      <td>RH</td>\n      <td>80.0</td>\n      <td>11622</td>\n      <td>Pave</td>\n      <td>NaN</td>\n      <td>Reg</td>\n      <td>Lvl</td>\n      <td>...</td>\n      <td>0</td>\n      <td>NaN</td>\n      <td>MnPrv</td>\n      <td>NaN</td>\n      <td>0</td>\n      <td>6</td>\n      <td>2010</td>\n      <td>WD</td>\n      <td>Normal</td>\n      <td>105000</td>\n    </tr>\n    <tr>\n      <th>2</th>\n      <td>3</td>\n      <td>526351010</td>\n      <td>20</td>\n      <td>RL</td>\n      <td>81.0</td>\n      <td>14267</td>\n      <td>Pave</td>\n      <td>NaN</td>\n      <td>IR1</td>\n      <td>Lvl</td>\n      <td>...</td>\n      <td>0</td>\n      <td>NaN</td>\n      <td>NaN</td>\n      <td>Gar2</td>\n      <td>12500</td>\n      <td>6</td>\n      <td>2010</td>\n      <td>WD</td>\n      <td>Normal</td>\n      <td>172000</td>\n    </tr>\n    <tr>\n      <th>3</th>\n      <td>4</td>\n      <td>526353030</td>\n      <td>20</td>\n      <td>RL</td>\n      <td>93.0</td>\n      <td>11160</td>\n      <td>Pave</td>\n      <td>NaN</td>\n      <td>Reg</td>\n      <td>Lvl</td>\n      <td>...</td>\n      <td>0</td>\n      <td>NaN</td>\n      <td>NaN</td>\n      <td>NaN</td>\n      <td>0</td>\n      <td>4</td>\n      <td>2010</td>\n      <td>WD</td>\n      <td>Normal</td>\n      <td>244000</td>\n    </tr>\n    <tr>\n      <th>4</th>\n      <td>5</td>\n      <td>527105010</td>\n      <td>60</td>\n      <td>RL</td>\n      <td>74.0</td>\n      <td>13830</td>\n      <td>Pave</td>\n      <td>NaN</td>\n      <td>IR1</td>\n      <td>Lvl</td>\n      <td>...</td>\n      <td>0</td>\n      <td>NaN</td>\n      <td>MnPrv</td>\n      <td>NaN</td>\n      <td>0</td>\n      <td>3</td>\n      <td>2010</td>\n      <td>WD</td>\n      <td>Normal</td>\n      <td>189900</td>\n    </tr>\n  </tbody>\n</table>\n<p>5 rows × 82 columns</p>\n</div>"
     },
     "execution_count": 23,
     "metadata": {},
     "output_type": "execute_result"
    }
   ],
   "source": [
    "# Merging both the housing and sales dataframes\n",
    "df = housing_df.merge(sales_df, on=[\"PID\",\"MS_SubClass\",\"Order\"],\n",
    "                      how=\"inner\")\n",
    "df.head()"
   ],
   "metadata": {
    "collapsed": false,
    "ExecuteTime": {
     "end_time": "2023-11-15T19:22:56.855623Z",
     "start_time": "2023-11-15T19:22:56.807772Z"
    }
   },
   "id": "4ce15daadcb37565"
  },
  {
   "cell_type": "code",
   "execution_count": 24,
   "outputs": [
    {
     "name": "stdout",
     "output_type": "stream",
     "text": [
      "Length of the housing_df is: 2930\n",
      "Length of the sales_df is: 2930\n",
      "Length of the merged df is: 2930\n"
     ]
    }
   ],
   "source": [
    "# Checking the length of the dataframes\n",
    "print(f\"Length of the housing_df is: {len(housing_df)}\")\n",
    "print(f\"Length of the sales_df is: {len(sales_df)}\")\n",
    "print(f\"Length of the merged df is: {len(df)}\")"
   ],
   "metadata": {
    "collapsed": false,
    "ExecuteTime": {
     "end_time": "2023-11-15T19:23:12.690937Z",
     "start_time": "2023-11-15T19:23:12.559108Z"
    }
   },
   "id": "598d8b3edafb34fb"
  },
  {
   "cell_type": "markdown",
   "source": [
    "### 3.3 Checking for missing values\n",
    "\n",
    "This stage will check for missing values in the merged dataframe and deal with them accordingly."
   ],
   "metadata": {
    "collapsed": false
   },
   "id": "d021e99e7cd677bf"
  },
  {
   "cell_type": "code",
   "execution_count": 26,
   "outputs": [
    {
     "name": "stdout",
     "output_type": "stream",
     "text": [
      "Total number of missing values in the dataframe:\n"
     ]
    },
    {
     "data": {
      "text/plain": "15749"
     },
     "execution_count": 26,
     "metadata": {},
     "output_type": "execute_result"
    }
   ],
   "source": [
    "# Total number of NA values\n",
    "print(\"Total number of missing values in the dataframe:\")\n",
    "df.isna().sum().sum()"
   ],
   "metadata": {
    "collapsed": false,
    "ExecuteTime": {
     "end_time": "2023-11-15T20:12:53.963043Z",
     "start_time": "2023-11-15T20:12:53.480808Z"
    }
   },
   "id": "2eeb2716618d8af8"
  },
  {
   "cell_type": "markdown",
   "source": [
    "We will deal with the missing values in different ways depending on the column:\n",
    "1. Either drop the NA values\n",
    "2. Impute the missing values\n",
    "3. Do nothing to them if they are valid values"
   ],
   "metadata": {
    "collapsed": false
   },
   "id": "98a723499710e131"
  },
  {
   "cell_type": "code",
   "execution_count": 27,
   "outputs": [
    {
     "data": {
      "text/plain": "                Missing values  Percentage of missing values\nPool_QC                   2917                     99.556314\nMisc_Feature              2824                     96.382253\nAlley                     2732                     93.242321\nFence                     2358                     80.477816\nMas_Vnr_Type              1775                     60.580205\nFireplace_Qu              1422                     48.532423\nLot_Frontage               490                     16.723549\nGarage_Cond                159                      5.426621\nGarage_Qual                159                      5.426621\nGarage_Finish              159                      5.426621\nGarage_Yr_Blt              159                      5.426621\nGarage_Type                157                      5.358362\nBsmt_Exposure               83                      2.832765\nBsmtFin_Type_2              81                      2.764505\nBsmt_Cond                   80                      2.730375\nBsmt_Qual                   80                      2.730375\nBsmtFin_Type_1              80                      2.730375\nMas_Vnr_Area                23                      0.784983\nBsmt_Half_Bath               2                      0.068259\nBsmt_Full_Bath               2                      0.068259\nBsmtFin_SF_1                 1                      0.034130\nGarage_Cars                  1                      0.034130\nGarage_Area                  1                      0.034130\nTotal_Bsmt_SF                1                      0.034130\nBsmt_Unf_SF                  1                      0.034130\nBsmtFin_SF_2                 1                      0.034130\nElectrical                   1                      0.034130",
      "text/html": "<div>\n<style scoped>\n    .dataframe tbody tr th:only-of-type {\n        vertical-align: middle;\n    }\n\n    .dataframe tbody tr th {\n        vertical-align: top;\n    }\n\n    .dataframe thead th {\n        text-align: right;\n    }\n</style>\n<table border=\"1\" class=\"dataframe\">\n  <thead>\n    <tr style=\"text-align: right;\">\n      <th></th>\n      <th>Missing values</th>\n      <th>Percentage of missing values</th>\n    </tr>\n  </thead>\n  <tbody>\n    <tr>\n      <th>Pool_QC</th>\n      <td>2917</td>\n      <td>99.556314</td>\n    </tr>\n    <tr>\n      <th>Misc_Feature</th>\n      <td>2824</td>\n      <td>96.382253</td>\n    </tr>\n    <tr>\n      <th>Alley</th>\n      <td>2732</td>\n      <td>93.242321</td>\n    </tr>\n    <tr>\n      <th>Fence</th>\n      <td>2358</td>\n      <td>80.477816</td>\n    </tr>\n    <tr>\n      <th>Mas_Vnr_Type</th>\n      <td>1775</td>\n      <td>60.580205</td>\n    </tr>\n    <tr>\n      <th>Fireplace_Qu</th>\n      <td>1422</td>\n      <td>48.532423</td>\n    </tr>\n    <tr>\n      <th>Lot_Frontage</th>\n      <td>490</td>\n      <td>16.723549</td>\n    </tr>\n    <tr>\n      <th>Garage_Cond</th>\n      <td>159</td>\n      <td>5.426621</td>\n    </tr>\n    <tr>\n      <th>Garage_Qual</th>\n      <td>159</td>\n      <td>5.426621</td>\n    </tr>\n    <tr>\n      <th>Garage_Finish</th>\n      <td>159</td>\n      <td>5.426621</td>\n    </tr>\n    <tr>\n      <th>Garage_Yr_Blt</th>\n      <td>159</td>\n      <td>5.426621</td>\n    </tr>\n    <tr>\n      <th>Garage_Type</th>\n      <td>157</td>\n      <td>5.358362</td>\n    </tr>\n    <tr>\n      <th>Bsmt_Exposure</th>\n      <td>83</td>\n      <td>2.832765</td>\n    </tr>\n    <tr>\n      <th>BsmtFin_Type_2</th>\n      <td>81</td>\n      <td>2.764505</td>\n    </tr>\n    <tr>\n      <th>Bsmt_Cond</th>\n      <td>80</td>\n      <td>2.730375</td>\n    </tr>\n    <tr>\n      <th>Bsmt_Qual</th>\n      <td>80</td>\n      <td>2.730375</td>\n    </tr>\n    <tr>\n      <th>BsmtFin_Type_1</th>\n      <td>80</td>\n      <td>2.730375</td>\n    </tr>\n    <tr>\n      <th>Mas_Vnr_Area</th>\n      <td>23</td>\n      <td>0.784983</td>\n    </tr>\n    <tr>\n      <th>Bsmt_Half_Bath</th>\n      <td>2</td>\n      <td>0.068259</td>\n    </tr>\n    <tr>\n      <th>Bsmt_Full_Bath</th>\n      <td>2</td>\n      <td>0.068259</td>\n    </tr>\n    <tr>\n      <th>BsmtFin_SF_1</th>\n      <td>1</td>\n      <td>0.034130</td>\n    </tr>\n    <tr>\n      <th>Garage_Cars</th>\n      <td>1</td>\n      <td>0.034130</td>\n    </tr>\n    <tr>\n      <th>Garage_Area</th>\n      <td>1</td>\n      <td>0.034130</td>\n    </tr>\n    <tr>\n      <th>Total_Bsmt_SF</th>\n      <td>1</td>\n      <td>0.034130</td>\n    </tr>\n    <tr>\n      <th>Bsmt_Unf_SF</th>\n      <td>1</td>\n      <td>0.034130</td>\n    </tr>\n    <tr>\n      <th>BsmtFin_SF_2</th>\n      <td>1</td>\n      <td>0.034130</td>\n    </tr>\n    <tr>\n      <th>Electrical</th>\n      <td>1</td>\n      <td>0.034130</td>\n    </tr>\n  </tbody>\n</table>\n</div>"
     },
     "execution_count": 27,
     "metadata": {},
     "output_type": "execute_result"
    }
   ],
   "source": [
    "# Columns with na values\n",
    "nan_columns = df.columns[df.isna().any()].tolist()\n",
    "\n",
    "# Sum of the na values in the dataset\n",
    "nan_values = df[nan_columns].isna().sum()\n",
    "\n",
    "# Percentage of na values\n",
    "nan_percentage = (nan_values / len(df)) * 100\n",
    "\n",
    "# Creating a dataframe to display the results\n",
    "nan_df = pd.DataFrame({\"Missing values\": nan_values,\n",
    "                       \"Percentage of missing values\": nan_percentage})\n",
    "\n",
    "# Sorting the dataframe\n",
    "nan_df.sort_values(by=\"Percentage of missing values\", ascending=False, inplace=True)\n",
    "nan_df"
   ],
   "metadata": {
    "collapsed": false,
    "ExecuteTime": {
     "end_time": "2023-11-15T20:37:25.193255Z",
     "start_time": "2023-11-15T20:37:24.843793Z"
    }
   },
   "id": "a04284c985845e89"
  },
  {
   "cell_type": "markdown",
   "source": [
    "Looking at the above dataframe, we can see the amount of NA values in the dataset as well as its proportion to the whole dataset. \n",
    "For this project, we will drop all columns with **more than 10% of missing values**. This is because we have a large dataset and imputing over them will cause a lot of noise in the data.\n",
    "\n",
    "In addition, dropping them makes sense over imputing them as some columns such as `Pool_QC` and `Misc_Feature` have more than 90% of missing values. Looking at the data dictionary we see that \"NA\" means that the property doesn't have the feature or pool. Therefore, we can safely assume that the missing values are valid and we can drop them.\n",
    "\n",
    "#### 3.3.1 Dropping columns with more than 10% of NA values\n"
   ],
   "metadata": {
    "collapsed": false
   },
   "id": "e653326dd6d4c76d"
  },
  {
   "cell_type": "code",
   "execution_count": 29,
   "outputs": [
    {
     "name": "stdout",
     "output_type": "stream",
     "text": [
      "['Pool_QC', 'Misc_Feature', 'Alley', 'Fence', 'Mas_Vnr_Type', 'Fireplace_Qu', 'Lot_Frontage']\n",
      "Number of columns in the dataset was: 81\n",
      "Number of columns to drop is: 7\n",
      "Number of columns in the updated dataset is: 74\n"
     ]
    }
   ],
   "source": [
    "# Dropping columns with more than 10% of NA values\n",
    "# Columns to drop\n",
    "columns_to_drop = nan_df[nan_df[\"Percentage of missing values\"] > 10].index.tolist()\n",
    "print(columns_to_drop)\n",
    "\n",
    "# Drop columns\n",
    "housing_df.drop(columns=columns_to_drop, inplace=True)\n",
    "\n",
    "print(f\"Number of columns in the dataset was: {len(housing_df.columns) + len(columns_to_drop)}\")\n",
    "print(f\"Number of columns to drop is: {len(columns_to_drop)}\")\n",
    "print(f\"Number of columns in the updated dataset is: {len(housing_df.columns)}\")"
   ],
   "metadata": {
    "collapsed": false,
    "ExecuteTime": {
     "end_time": "2023-11-15T20:45:13.262523Z",
     "start_time": "2023-11-15T20:45:13.133530Z"
    }
   },
   "id": "4dc2ed3a2ac8fea1"
  },
  {
   "cell_type": "code",
   "execution_count": 30,
   "outputs": [
    {
     "data": {
      "text/plain": "(2930, 75)"
     },
     "execution_count": 30,
     "metadata": {},
     "output_type": "execute_result"
    }
   ],
   "source": [
    "# Update nan_df \n",
    "nan_df = nan_df[~nan_df.index.isin(columns_to_drop)]\n",
    "\n",
    "# Updating the original df\n",
    "df = df.drop(columns=columns_to_drop)\n",
    "\n",
    "# Checking the shape of the df\n",
    "df.shape"
   ],
   "metadata": {
    "collapsed": false,
    "ExecuteTime": {
     "end_time": "2023-11-15T20:45:24.428663Z",
     "start_time": "2023-11-15T20:45:24.320963Z"
    }
   },
   "id": "ca37ff87d5362503"
  },
  {
   "cell_type": "markdown",
   "source": [
    "Looking at the shape of the original df, we can see that the number of columns has dropped from 81 to 75. This is because we dropped the columns that had more than 10% of missing values.\n",
    "\n",
    "#### 3.3.2 Columns to leave as they are\n",
    "\n",
    "he first set of missing values we will deal with are columns that are correctly labelled as NA.\n",
    "How we identified columns labeled as NA, is by going through the data dictionary provided and seeing if any columns were meant to have an NA value (eg. If property doesn't have a pool, the value associated with it in the dictionary is NA)."
   ],
   "metadata": {
    "collapsed": false
   },
   "id": "ae25a89c58f59bc4"
  },
  {
   "cell_type": "code",
   "execution_count": 31,
   "outputs": [
    {
     "data": {
      "text/plain": "                Missing values  Percentage of missing values\nGarage_Yr_Blt              159                      5.426621\nMas_Vnr_Area                23                      0.784983\nBsmt_Half_Bath               2                      0.068259\nBsmt_Full_Bath               2                      0.068259\nBsmtFin_SF_1                 1                      0.034130\nGarage_Cars                  1                      0.034130\nGarage_Area                  1                      0.034130\nTotal_Bsmt_SF                1                      0.034130\nBsmt_Unf_SF                  1                      0.034130\nBsmtFin_SF_2                 1                      0.034130\nElectrical                   1                      0.034130",
      "text/html": "<div>\n<style scoped>\n    .dataframe tbody tr th:only-of-type {\n        vertical-align: middle;\n    }\n\n    .dataframe tbody tr th {\n        vertical-align: top;\n    }\n\n    .dataframe thead th {\n        text-align: right;\n    }\n</style>\n<table border=\"1\" class=\"dataframe\">\n  <thead>\n    <tr style=\"text-align: right;\">\n      <th></th>\n      <th>Missing values</th>\n      <th>Percentage of missing values</th>\n    </tr>\n  </thead>\n  <tbody>\n    <tr>\n      <th>Garage_Yr_Blt</th>\n      <td>159</td>\n      <td>5.426621</td>\n    </tr>\n    <tr>\n      <th>Mas_Vnr_Area</th>\n      <td>23</td>\n      <td>0.784983</td>\n    </tr>\n    <tr>\n      <th>Bsmt_Half_Bath</th>\n      <td>2</td>\n      <td>0.068259</td>\n    </tr>\n    <tr>\n      <th>Bsmt_Full_Bath</th>\n      <td>2</td>\n      <td>0.068259</td>\n    </tr>\n    <tr>\n      <th>BsmtFin_SF_1</th>\n      <td>1</td>\n      <td>0.034130</td>\n    </tr>\n    <tr>\n      <th>Garage_Cars</th>\n      <td>1</td>\n      <td>0.034130</td>\n    </tr>\n    <tr>\n      <th>Garage_Area</th>\n      <td>1</td>\n      <td>0.034130</td>\n    </tr>\n    <tr>\n      <th>Total_Bsmt_SF</th>\n      <td>1</td>\n      <td>0.034130</td>\n    </tr>\n    <tr>\n      <th>Bsmt_Unf_SF</th>\n      <td>1</td>\n      <td>0.034130</td>\n    </tr>\n    <tr>\n      <th>BsmtFin_SF_2</th>\n      <td>1</td>\n      <td>0.034130</td>\n    </tr>\n    <tr>\n      <th>Electrical</th>\n      <td>1</td>\n      <td>0.034130</td>\n    </tr>\n  </tbody>\n</table>\n</div>"
     },
     "execution_count": 31,
     "metadata": {},
     "output_type": "execute_result"
    }
   ],
   "source": [
    "# Correctly labelled NA values\n",
    "correct_na_cols = [\"Bsmt_Qual\",\"Bsmt_Cond\",\"Bsmt_Exposure\",\"BsmtFin_Type_1\",\n",
    "            \"BsmtFin_Type_2\",\"Garage_Type\",\"Garage_Finish\",\"Garage_Qual\",\n",
    "            \"Garage_Cond\"]\n",
    "\n",
    "# Remove the columns from the nan_df\n",
    "nan_df = nan_df[~nan_df.index.isin(correct_na_cols)]\n",
    "\n",
    "# View the updated df\n",
    "nan_df\n"
   ],
   "metadata": {
    "collapsed": false,
    "ExecuteTime": {
     "end_time": "2023-11-15T20:57:15.388062Z",
     "start_time": "2023-11-15T20:57:15.219842Z"
    }
   },
   "id": "639d9177b72c2957"
  },
  {
   "cell_type": "markdown",
   "source": [
    "Based of the updated dataframe, we can see that the columns above consist of values that can now be imputed with the (assumed) correct values.\n",
    "The 2 main imputation methods we will use will be either:\n",
    "1. Mean\n",
    "2. Median\n",
    "\n",
    "#### 3.3.3 Imputing missing values\n",
    "\n",
    "Kumar (2023) gives us a guide on which method to use for imputing missing values depending on the type of data we have.\n",
    "- **Mean Imputation**  is used for continuous data that is normally distributed\n",
    "- **Median Imputation** is used for continuous data that is skewed as it is less sensitive to outliers\n",
    "- **Mode Imputation** is used for categorical data\n"
   ],
   "metadata": {
    "collapsed": false
   },
   "id": "8c6dd70bc87f2c52"
  },
  {
   "cell_type": "code",
   "execution_count": null,
   "outputs": [],
   "source": [],
   "metadata": {
    "collapsed": false
   },
   "id": "50b99d4def15cf67"
  }
 ],
 "metadata": {
  "kernelspec": {
   "display_name": "Python 3",
   "language": "python",
   "name": "python3"
  },
  "language_info": {
   "codemirror_mode": {
    "name": "ipython",
    "version": 2
   },
   "file_extension": ".py",
   "mimetype": "text/x-python",
   "name": "python",
   "nbconvert_exporter": "python",
   "pygments_lexer": "ipython2",
   "version": "2.7.6"
  }
 },
 "nbformat": 4,
 "nbformat_minor": 5
}
